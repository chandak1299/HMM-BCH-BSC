{
 "cells": [
  {
   "cell_type": "code",
   "execution_count": 1,
   "metadata": {},
   "outputs": [],
   "source": [
    "from scipy import sparse\n",
    "import numpy as np\n",
    "import sys\n",
    "np.set_printoptions(threshold=sys.maxsize)\n",
    "import BCH_BSC_Functions as func"
   ]
  },
  {
   "cell_type": "code",
   "execution_count": 2,
   "metadata": {},
   "outputs": [],
   "source": [
    "seed=16"
   ]
  },
  {
   "cell_type": "code",
   "execution_count": 3,
   "metadata": {},
   "outputs": [],
   "source": [
    "S=32\n",
    "n=20\n",
    "BCH_Poly = 37\n",
    "Bits_per_error=5\n",
    "samples=10000\n",
    "p=0.05\n",
    "M=32\n",
    "test_size=20000\n",
    "n_state=7\n",
    "n_message=18\n",
    "\n",
    "codes_combined=func.code_combined(S,M,n,BCH_Poly,Bits_per_error)\n",
    "#codes_nested=func.code_nested(S,M,n,BCH_Poly,Bits_per_error,10)\n",
    "#codes_sep_state,codes_sep_message=func.code_separate(S,M,n_state,n_message,BCH_Poly,Bits_per_error)\n",
    "codes_punctured=func.code_punctured(S,M,n,BCH_Poly,Bits_per_error)\n",
    "\n",
    "#Generate random sparse transition matrix with density=(1-sparsity)\n",
    "np.random.seed(seed)\n",
    "trans_mat=sparse.rand(S,S,density=0.125)\n",
    "trans_mat=trans_mat.todense()\n",
    "num_of_trans=np.sum(trans_mat!=0,axis=1)\n",
    "for i in range(0,S):\n",
    "    if(num_of_trans[i]==0):\n",
    "        trans_mat[i,:]=sparse.rand(1,S,density=0.125).todense()\n",
    "trans_mat=trans_mat/np.sum(trans_mat,axis=1)"
   ]
  },
  {
   "cell_type": "code",
   "execution_count": 4,
   "metadata": {},
   "outputs": [],
   "source": [
    "#Online learning - No separate training phase, transition matrix is learnt along with decoding"
   ]
  },
  {
   "cell_type": "code",
   "execution_count": 5,
   "metadata": {},
   "outputs": [],
   "source": [
    "np.random.seed(seed)\n",
    "states,messages=func.data_generator(M,trans_mat,test_size)"
   ]
  },
  {
   "cell_type": "code",
   "execution_count": 6,
   "metadata": {},
   "outputs": [],
   "source": [
    "sent_punctured=func.encoder(M,states,messages,codes_punctured,test_size)\n",
    "np.random.seed(seed)\n",
    "received_punctured=func.channel(sent_punctured,test_size,p)"
   ]
  },
  {
   "cell_type": "code",
   "execution_count": 7,
   "metadata": {},
   "outputs": [
    {
     "name": "stdout",
     "output_type": "stream",
     "text": [
      "(50, 76)\n",
      "(29, 39)\n",
      "(21, 37)\n"
     ]
    }
   ],
   "source": [
    "state_predicted,message_predicted=func.decoder_online_learning(S,M,n,received_punctured,p,codes_punctured,20000,\"HMM_delay_MAP\",1)\n",
    "print(func.errors(states,messages,state_predicted,message_predicted,test_size))\n",
    "print(func.errors(states[0:10000],messages[0:10000],state_predicted[0:10000],message_predicted[0:10000],10000))\n",
    "print(func.errors(states[10000:20000],messages[10000:20000],state_predicted[10000:20000],message_predicted[10000:20000],10000))"
   ]
  },
  {
   "cell_type": "code",
   "execution_count": 8,
   "metadata": {},
   "outputs": [],
   "source": [
    "#A separate training phase and then testing separately"
   ]
  },
  {
   "cell_type": "code",
   "execution_count": 9,
   "metadata": {},
   "outputs": [],
   "source": [
    "np.random.seed(seed)\n",
    "p_predicted,trans_mat_predicted=func.training(S,n,BCH_Poly,Bits_per_error,samples,p,trans_mat)"
   ]
  },
  {
   "cell_type": "code",
   "execution_count": 10,
   "metadata": {},
   "outputs": [
    {
     "name": "stdout",
     "output_type": "stream",
     "text": [
      "(35, 61)\n",
      "(17, 27)\n",
      "(18, 34)\n"
     ]
    }
   ],
   "source": [
    "#Using the original p and transition matrix\n",
    "state_predicted,message_predicted=func.decoder(S,M,n,received_punctured,trans_mat,p,codes_punctured,test_size,\"HMM_delay_MAP\",1)\n",
    "print(func.errors(states,messages,state_predicted,message_predicted,test_size))\n",
    "print(func.errors(states[0:10000],messages[0:10000],state_predicted[0:10000],message_predicted[0:10000],10000))\n",
    "print(func.errors(states[10000:20000],messages[10000:20000],state_predicted[10000:20000],message_predicted[10000:20000],10000))"
   ]
  },
  {
   "cell_type": "code",
   "execution_count": 11,
   "metadata": {},
   "outputs": [
    {
     "name": "stdout",
     "output_type": "stream",
     "text": [
      "(35, 61)\n",
      "(16, 26)\n",
      "(19, 35)\n"
     ]
    }
   ],
   "source": [
    "#Using the learnt p and transition matrix\n",
    "state_predicted,message_predicted=func.decoder(S,M,n,received_punctured,trans_mat_predicted,p_predicted,codes_punctured,test_size,\"HMM_delay_MAP\",1)\n",
    "print(func.errors(states,messages,state_predicted,message_predicted,test_size))\n",
    "print(func.errors(states[0:10000],messages[0:10000],state_predicted[0:10000],message_predicted[0:10000],10000))\n",
    "print(func.errors(states[10000:20000],messages[10000:20000],state_predicted[10000:20000],message_predicted[10000:20000],10000))"
   ]
  }
 ],
 "metadata": {
  "kernelspec": {
   "display_name": "Python 3",
   "language": "python",
   "name": "python3"
  },
  "language_info": {
   "codemirror_mode": {
    "name": "ipython",
    "version": 3
   },
   "file_extension": ".py",
   "mimetype": "text/x-python",
   "name": "python",
   "nbconvert_exporter": "python",
   "pygments_lexer": "ipython3",
   "version": "3.7.6"
  }
 },
 "nbformat": 4,
 "nbformat_minor": 4
}
