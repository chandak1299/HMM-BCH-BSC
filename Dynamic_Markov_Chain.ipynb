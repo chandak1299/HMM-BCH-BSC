{
 "cells": [
  {
   "cell_type": "code",
   "execution_count": 1,
   "metadata": {},
   "outputs": [],
   "source": [
    "import numpy as np\n",
    "import bchlib\n",
    "import binascii\n",
    "import math\n",
    "from pydtmc import MarkovChain\n",
    "from scipy import sparse\n",
    "from scipy.stats import rv_discrete\n",
    "import sys\n",
    "np.set_printoptions(threshold=sys.maxsize)\n",
    "from scipy.stats import bernoulli as bern\n",
    "import BCH_BSC_Functions as func"
   ]
  },
  {
   "cell_type": "code",
   "execution_count": 2,
   "metadata": {},
   "outputs": [],
   "source": [
    "S=32\n",
    "M=32\n",
    "n=20\n",
    "BCH_Poly=37\n",
    "Bits_per_error=5\n",
    "p=0.05\n",
    "M=32\n",
    "\n",
    "size=20000\n",
    "samples=10000\n",
    "\n",
    "codes_combined=func.code_combined(S,M,n,BCH_Poly,Bits_per_error)\n",
    "codes_punctured=func.code_punctured(S,M,n,BCH_Poly,Bits_per_error)\n",
    "\n",
    "np.random.seed(0)\n",
    "trans_mat1=sparse.rand(S,S,density=0.25)\n",
    "trans_mat1=trans_mat1.todense()\n",
    "trans_mat1=trans_mat1/np.sum(trans_mat1,axis=1)\n",
    "\n",
    "np.random.seed(1)\n",
    "trans_mat2=sparse.rand(S,S,density=0.25)\n",
    "trans_mat2=trans_mat2.todense()\n",
    "trans_mat2=trans_mat2/np.sum(trans_mat2,axis=1)"
   ]
  },
  {
   "cell_type": "code",
   "execution_count": 3,
   "metadata": {},
   "outputs": [],
   "source": [
    "states_numbers=np.arange(S)\n",
    "states=np.empty(size,dtype=int)\n",
    "messages=np.empty(size,dtype=int)\n",
    "np.random.seed(0)\n",
    "states[0]=np.random.randint(M)\n",
    "for i in range(1,size):\n",
    "    prob=np.array((trans_mat1*(1-i/size)+trans_mat2*(i/size))[states[i-1],:]).squeeze()\n",
    "    custm=rv_discrete(values=(states_numbers,prob))\n",
    "    states[i]=custm.rvs(size=1)\n",
    "    \n",
    "for i in range(0,size):\n",
    "    messages[i]=np.random.randint(M)"
   ]
  },
  {
   "cell_type": "code",
   "execution_count": 4,
   "metadata": {},
   "outputs": [],
   "source": [
    "sent_punctured=func.encoder(M,states,messages,codes_punctured,size)\n",
    "#sent_combined=func.encoder(M,states,messages,codes_combined,size)"
   ]
  },
  {
   "cell_type": "code",
   "execution_count": 5,
   "metadata": {},
   "outputs": [],
   "source": [
    "np.random.seed(0)\n",
    "received_punctured=func.channel(sent_punctured,size,p)\n",
    "#np.random.seed(0)\n",
    "#received_combined=func.channel(sent_combined,size,p)"
   ]
  },
  {
   "cell_type": "code",
   "execution_count": 6,
   "metadata": {},
   "outputs": [],
   "source": [
    "transitions_init=0.1"
   ]
  },
  {
   "cell_type": "code",
   "execution_count": 7,
   "metadata": {},
   "outputs": [],
   "source": [
    "#codes=codes_combined\n",
    "codes=codes_punctured\n",
    "\n",
    "#received=received_combined\n",
    "received=received_punctured"
   ]
  },
  {
   "cell_type": "code",
   "execution_count": 8,
   "metadata": {},
   "outputs": [],
   "source": [
    "state_predicted=np.empty(size,dtype=int)\n",
    "message_predicted=np.empty(size,dtype=int)\n",
    "\n",
    "transitions=np.full((S,S),transitions_init)\n",
    "trans_mat_predicted=transitions/np.sum(transitions,axis=1)\n",
    "startprob=np.full(S,1/S)\n",
    "\n",
    "B=np.empty(S)\n",
    "message_number=np.empty((S,size),dtype=int)\n",
    "T1=np.empty(S)\n",
    "prev_T1=np.empty(S)\n",
    "\n",
    "\n",
    "#First packet\n",
    "packet=received[0]\n",
    "compare=(codes!=packet)\n",
    "hammdist=np.sum(compare,axis=1)\n",
    "for l in range(0,S):\n",
    "    index=np.argmin(hammdist[M*l:M*l+M])\n",
    "    message_number[l,0]=index\n",
    "    B[l]=np.sum(np.power(p,hammdist[M*l:M*l+M])*np.power((1-p),n-hammdist[M*l:M*l+M]))\n",
    "T1=startprob*B\n",
    "    \n",
    "state_predicted[0]=np.argmax(T1)\n",
    "message_predicted[0]=message_number[state_predicted[0],0]\n",
    "\n",
    "\n",
    "for j in range(1,size):\n",
    "    prev_T1=np.array(T1)\n",
    "    packet=received[j]\n",
    "    compare=(codes!=packet)\n",
    "    hammdist=np.sum(compare,axis=1)\n",
    "    for l in range(0,S):\n",
    "        index=np.argmin(hammdist[M*l:M*l+M])\n",
    "        message_number[l,j]=index\n",
    "        B[l]=np.sum(np.power(p,hammdist[M*l:M*l+M])*np.power((1-p),n-hammdist[M*l:M*l+M]))\n",
    "        apriori=np.sum(prev_T1*trans_mat_predicted[:,l])\n",
    "        #apriori=np.sum(prev_T1*transitions[:,l])\n",
    "        T1[l]=apriori*B[l]\n",
    "    if(T1[0]<10**(-100)):\n",
    "        T1=T1*10**100\n",
    "\n",
    "    state_predicted[j]=np.argmax(T1)\n",
    "    message_predicted[j]=message_number[state_predicted[j],j]    \n",
    "    \n",
    "    transitions[state_predicted[j-1],state_predicted[j]]+=1\n",
    "    trans_mat_predicted=transitions/np.sum(transitions,axis=1)\n"
   ]
  },
  {
   "cell_type": "code",
   "execution_count": 9,
   "metadata": {},
   "outputs": [
    {
     "name": "stdout",
     "output_type": "stream",
     "text": [
      "(508, 520)\n",
      "(245, 249)\n",
      "(263, 271)\n"
     ]
    }
   ],
   "source": [
    "print(func.errors(states,messages,state_predicted,message_predicted,size))\n",
    "print(func.errors(states[10000:20000],messages[10000:20000],state_predicted[10000:20000],message_predicted[10000:20000],10000))\n",
    "print(func.errors(states[0:10000],messages[0:10000],state_predicted[0:10000],message_predicted[0:10000],10000))"
   ]
  },
  {
   "cell_type": "code",
   "execution_count": 10,
   "metadata": {},
   "outputs": [],
   "source": [
    "delay=1\n",
    "\n",
    "state_predicted=np.empty(size,dtype=int)\n",
    "message_predicted=np.empty(size,dtype=int)\n",
    "\n",
    "transitions=np.full((S,S),transitions_init)\n",
    "trans_mat_predicted=transitions/np.sum(transitions,axis=1)\n",
    "startprob=np.full(S,1/S)\n",
    "\n",
    "startprob=np.full(S,1/S)\n",
    "message_number=np.empty((S,size),dtype=int)\n",
    "forward=np.empty((S,size))\n",
    "backward=np.zeros((S,delay+1))\n",
    "B=np.empty((S,size))\n",
    "alpha=np.empty(S)\n",
    "\n",
    "packet=received[0]\n",
    "compare=(codes!=packet)\n",
    "hammdist=np.sum(compare,axis=1)\n",
    "for l in range(0,S):\n",
    "    index=np.argmin(hammdist[M*l:M*l+M])\n",
    "    message_number[l,0]=index\n",
    "    B[l,0]=np.sum(np.power(p,hammdist[M*l:M*l+M])*np.power((1-p),n-hammdist[M*l:M*l+M]))\n",
    "\n",
    "forward[:,0]=startprob*B[:,0]\n",
    "\n",
    "\n",
    "for j in range(1,size):\n",
    "    backward.fill(0)\n",
    "    packet=received[j]\n",
    "    compare=(codes!=packet)\n",
    "    hammdist=np.sum(compare,axis=1)\n",
    "    for l in range(0,S):\n",
    "        index=np.argmin(hammdist[S*l:S*l+S])\n",
    "        message_number[l,j]=index\n",
    "        B[l,j]=np.sum(np.power(p,hammdist[S*l:S*l+S])*np.power((1-p),n-hammdist[S*l:S*l+S]))\n",
    "\n",
    "    for i in range(0,S):\n",
    "        apriori=np.sum(forward[:,j-1]*trans_mat_predicted[:,i])\n",
    "        forward[i,j]=apriori*B[i,j]\n",
    "\n",
    "    if(forward[0,j]<10**(-100)):\n",
    "        forward[:,j]=forward[:,j]*10**100\n",
    "\n",
    "    backward[:,delay].fill(1)\n",
    "    for k in range(delay-1,-1,-1):\n",
    "        for i in range(0,S):\n",
    "            alpha=backward[:,k+1]*trans_mat_predicted[i,:]\n",
    "            backward[i,k]=np.sum(alpha*B[:,j+k-delay+1])\n",
    "\n",
    "    state_predicted[j-delay]=np.argmax(forward[:,j-delay]*backward[:,0])\n",
    "    if(j-delay>=1):\n",
    "        transitions[state_predicted[j-delay-1],state_predicted[j-delay]]+=1\n",
    "    trans_mat_predicted=transitions/np.sum(transitions,axis=1)\n",
    "    \n",
    "\n",
    "    \n",
    "for i in range(size-delay,size):\n",
    "    state_predicted[i]=np.argmax(forward[:,i]*backward[:,delay+i-size])\n",
    "\n",
    "for i in range(0,size):\n",
    "    message_predicted[i]=message_number[state_predicted[i],i]"
   ]
  },
  {
   "cell_type": "code",
   "execution_count": 11,
   "metadata": {},
   "outputs": [
    {
     "name": "stdout",
     "output_type": "stream",
     "text": [
      "(275, 296)\n",
      "(126, 136)\n",
      "(149, 160)\n"
     ]
    }
   ],
   "source": [
    "print(func.errors(states,messages,state_predicted,message_predicted,size))\n",
    "print(func.errors(states[10000:20000],messages[10000:20000],state_predicted[10000:20000],message_predicted[10000:20000],10000))\n",
    "print(func.errors(states[0:10000],messages[0:10000],state_predicted[0:10000],message_predicted[0:10000],10000))"
   ]
  },
  {
   "cell_type": "code",
   "execution_count": 10,
   "metadata": {},
   "outputs": [],
   "source": [
    "#Exactly know trans_mat at all times\n",
    "\n",
    "state_predicted=np.empty(size,dtype=int)\n",
    "message_predicted=np.empty(size,dtype=int)\n",
    "\n",
    "transitions=np.full((S,S),transitions_init)\n",
    "trans_mat_predicted=transitions/np.sum(transitions,axis=1)\n",
    "startprob=np.full(S,1/S)\n",
    "\n",
    "B=np.empty(S)\n",
    "message_number=np.empty((S,size),dtype=int)\n",
    "T1=np.empty(S)\n",
    "prev_T1=np.empty(S)\n",
    "\n",
    "\n",
    "#First packet\n",
    "packet=received[0]\n",
    "compare=(codes!=packet)\n",
    "hammdist=np.sum(compare,axis=1)\n",
    "for l in range(0,S):\n",
    "    index=np.argmin(hammdist[M*l:M*l+M])\n",
    "    message_number[l,0]=index\n",
    "    B[l]=np.sum(np.power(p,hammdist[M*l:M*l+M])*np.power((1-p),n-hammdist[M*l:M*l+M]))\n",
    "T1=startprob*B\n",
    "    \n",
    "state_predicted[0]=np.argmax(T1)\n",
    "message_predicted[0]=message_number[state_predicted[0],0]\n",
    "\n",
    "\n",
    "for j in range(1,size):\n",
    "    trans_mat_predicted=(trans_mat1*(1-j/size)+trans_mat2*(j/size))\n",
    "    prev_T1=np.array(T1)\n",
    "    packet=received[j]\n",
    "    compare=(codes!=packet)\n",
    "    hammdist=np.sum(compare,axis=1)\n",
    "    for l in range(0,S):\n",
    "        index=np.argmin(hammdist[M*l:M*l+M])\n",
    "        message_number[l,j]=index\n",
    "        B[l]=np.sum(np.power(p,hammdist[M*l:M*l+M])*np.power((1-p),n-hammdist[M*l:M*l+M]))\n",
    "        apriori=np.sum(prev_T1*trans_mat_predicted[:,l])\n",
    "        #apriori=np.sum(prev_T1*transitions[:,l])\n",
    "        T1[l]=apriori*B[l]\n",
    "    if(T1[0]<10**(-100)):\n",
    "        T1=T1*10**100\n",
    "\n",
    "    state_predicted[j]=np.argmax(T1)\n",
    "    message_predicted[j]=message_number[state_predicted[j],j]    \n",
    "    \n"
   ]
  },
  {
   "cell_type": "code",
   "execution_count": 11,
   "metadata": {},
   "outputs": [
    {
     "name": "stdout",
     "output_type": "stream",
     "text": [
      "(425, 438)\n",
      "(226, 231)\n",
      "(199, 207)\n"
     ]
    }
   ],
   "source": [
    "print(func.errors(states,messages,state_predicted,message_predicted,size))\n",
    "print(func.errors(states[10000:20000],messages[10000:20000],state_predicted[10000:20000],message_predicted[10000:20000],10000))\n",
    "print(func.errors(states[0:10000],messages[0:10000],state_predicted[0:10000],message_predicted[0:10000],10000))"
   ]
  },
  {
   "cell_type": "code",
   "execution_count": 14,
   "metadata": {},
   "outputs": [],
   "source": [
    "#Exactly know trans_mat at all times\n",
    "\n",
    "delay=1\n",
    "\n",
    "state_predicted=np.empty(size,dtype=int)\n",
    "message_predicted=np.empty(size,dtype=int)\n",
    "\n",
    "transitions=np.full((S,S),transitions_init)\n",
    "trans_mat_predicted=transitions/np.sum(transitions,axis=1)\n",
    "startprob=np.full(S,1/S)\n",
    "\n",
    "startprob=np.full(S,1/S)\n",
    "message_number=np.empty((S,size),dtype=int)\n",
    "forward=np.empty((S,size))\n",
    "backward=np.zeros((S,delay+1))\n",
    "B=np.empty((S,size))\n",
    "alpha=np.empty(S)\n",
    "\n",
    "packet=received[0]\n",
    "compare=(codes!=packet)\n",
    "hammdist=np.sum(compare,axis=1)\n",
    "for l in range(0,S):\n",
    "    index=np.argmin(hammdist[M*l:M*l+M])\n",
    "    message_number[l,0]=index\n",
    "    B[l,0]=np.sum(np.power(p,hammdist[M*l:M*l+M])*np.power((1-p),n-hammdist[M*l:M*l+M]))\n",
    "\n",
    "forward[:,0]=startprob*B[:,0]\n",
    "\n",
    "\n",
    "for j in range(1,size):\n",
    "    trans_mat_predicted=trans_mat1*(1-j/size)+trans_mat2*(j/size)\n",
    "    backward.fill(0)\n",
    "    packet=received[j]\n",
    "    compare=(codes!=packet)\n",
    "    hammdist=np.sum(compare,axis=1)\n",
    "    for l in range(0,S):\n",
    "        index=np.argmin(hammdist[S*l:S*l+S])\n",
    "        message_number[l,j]=index\n",
    "        B[l,j]=np.sum(np.power(p,hammdist[S*l:S*l+S])*np.power((1-p),n-hammdist[S*l:S*l+S]))\n",
    "\n",
    "    for i in range(0,S):\n",
    "        apriori=np.sum(forward[:,j-1]*trans_mat_predicted[:,i])\n",
    "        forward[i,j]=apriori*B[i,j]\n",
    "\n",
    "    if(forward[0,j]<10**(-100)):\n",
    "        forward[:,j]=forward[:,j]*10**100\n",
    "\n",
    "    backward[:,delay].fill(1)\n",
    "    for k in range(delay-1,-1,-1):\n",
    "        for i in range(0,S):\n",
    "            beta=np.array(trans_mat_predicted[i,:]).squeeze()\n",
    "            alpha=backward[:,k+1]*beta\n",
    "            backward[i,k]=np.sum(alpha*B[:,j+k-delay+1])\n",
    "\n",
    "    state_predicted[j-delay]=np.argmax(forward[:,j-delay]*backward[:,0])    \n",
    "\n",
    "    \n",
    "for i in range(size-delay,size):\n",
    "    state_predicted[i]=np.argmax(forward[:,i]*backward[:,delay+i-size])\n",
    "\n",
    "for i in range(0,size):\n",
    "    message_predicted[i]=message_number[state_predicted[i],i]"
   ]
  },
  {
   "cell_type": "code",
   "execution_count": 15,
   "metadata": {},
   "outputs": [
    {
     "name": "stdout",
     "output_type": "stream",
     "text": [
      "(190, 215)\n",
      "(92, 103)\n",
      "(98, 112)\n"
     ]
    }
   ],
   "source": [
    "print(func.errors(states,messages,state_predicted,message_predicted,size))\n",
    "print(func.errors(states[10000:20000],messages[10000:20000],state_predicted[10000:20000],message_predicted[10000:20000],10000))\n",
    "print(func.errors(states[0:10000],messages[0:10000],state_predicted[0:10000],message_predicted[0:10000],10000))"
   ]
  }
 ],
 "metadata": {
  "kernelspec": {
   "display_name": "Python 3",
   "language": "python",
   "name": "python3"
  },
  "language_info": {
   "codemirror_mode": {
    "name": "ipython",
    "version": 3
   },
   "file_extension": ".py",
   "mimetype": "text/x-python",
   "name": "python",
   "nbconvert_exporter": "python",
   "pygments_lexer": "ipython3",
   "version": "3.7.6"
  }
 },
 "nbformat": 4,
 "nbformat_minor": 4
}
